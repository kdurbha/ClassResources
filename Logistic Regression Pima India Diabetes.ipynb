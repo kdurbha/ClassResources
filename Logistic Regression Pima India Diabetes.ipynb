{
 "cells": [
  {
   "cell_type": "code",
   "execution_count": 29,
   "metadata": {},
   "outputs": [],
   "source": [
    "# Source: https://www.kaggle.com/rashmiek99/pima-indians-diabetes-logistic-regression-from-sc\n",
    "# Dataset source: https://www.kaggle.com/uciml/pima-indians-diabetes-database\n",
    "\n",
    "import numpy as np # linear algebra\n",
    "import pandas as pd # data processing, CSV file I/O (e.g. pd.read_csv)\n",
    "import matplotlib.pyplot as plt\n",
    "from sklearn.model_selection import train_test_split\n",
    "from sklearn.linear_model import LogisticRegression\n",
    "from sklearn.metrics import classification_report\n",
    "from sklearn.metrics import confusion_matrix\n",
    "from sklearn.metrics import accuracy_score\n",
    "from random import randrange\n",
    "import warnings\n",
    "warnings.filterwarnings(\"ignore\")"
   ]
  },
  {
   "cell_type": "code",
   "execution_count": 30,
   "metadata": {},
   "outputs": [
    {
     "data": {
      "text/html": [
       "<div>\n",
       "<style scoped>\n",
       "    .dataframe tbody tr th:only-of-type {\n",
       "        vertical-align: middle;\n",
       "    }\n",
       "\n",
       "    .dataframe tbody tr th {\n",
       "        vertical-align: top;\n",
       "    }\n",
       "\n",
       "    .dataframe thead th {\n",
       "        text-align: right;\n",
       "    }\n",
       "</style>\n",
       "<table border=\"1\" class=\"dataframe\">\n",
       "  <thead>\n",
       "    <tr style=\"text-align: right;\">\n",
       "      <th></th>\n",
       "      <th>Pregnancies</th>\n",
       "      <th>Glucose</th>\n",
       "      <th>BloodPressure</th>\n",
       "      <th>SkinThickness</th>\n",
       "      <th>Insulin</th>\n",
       "      <th>BMI</th>\n",
       "      <th>DiabetesPedigreeFunction</th>\n",
       "      <th>Age</th>\n",
       "      <th>Outcome</th>\n",
       "    </tr>\n",
       "  </thead>\n",
       "  <tbody>\n",
       "    <tr>\n",
       "      <th>0</th>\n",
       "      <td>6</td>\n",
       "      <td>148</td>\n",
       "      <td>72</td>\n",
       "      <td>35</td>\n",
       "      <td>0</td>\n",
       "      <td>33.6</td>\n",
       "      <td>0.627</td>\n",
       "      <td>50</td>\n",
       "      <td>1</td>\n",
       "    </tr>\n",
       "    <tr>\n",
       "      <th>1</th>\n",
       "      <td>1</td>\n",
       "      <td>85</td>\n",
       "      <td>66</td>\n",
       "      <td>29</td>\n",
       "      <td>0</td>\n",
       "      <td>26.6</td>\n",
       "      <td>0.351</td>\n",
       "      <td>31</td>\n",
       "      <td>0</td>\n",
       "    </tr>\n",
       "    <tr>\n",
       "      <th>2</th>\n",
       "      <td>8</td>\n",
       "      <td>183</td>\n",
       "      <td>64</td>\n",
       "      <td>0</td>\n",
       "      <td>0</td>\n",
       "      <td>23.3</td>\n",
       "      <td>0.672</td>\n",
       "      <td>32</td>\n",
       "      <td>1</td>\n",
       "    </tr>\n",
       "    <tr>\n",
       "      <th>3</th>\n",
       "      <td>1</td>\n",
       "      <td>89</td>\n",
       "      <td>66</td>\n",
       "      <td>23</td>\n",
       "      <td>94</td>\n",
       "      <td>28.1</td>\n",
       "      <td>0.167</td>\n",
       "      <td>21</td>\n",
       "      <td>0</td>\n",
       "    </tr>\n",
       "    <tr>\n",
       "      <th>4</th>\n",
       "      <td>0</td>\n",
       "      <td>137</td>\n",
       "      <td>40</td>\n",
       "      <td>35</td>\n",
       "      <td>168</td>\n",
       "      <td>43.1</td>\n",
       "      <td>2.288</td>\n",
       "      <td>33</td>\n",
       "      <td>1</td>\n",
       "    </tr>\n",
       "  </tbody>\n",
       "</table>\n",
       "</div>"
      ],
      "text/plain": [
       "   Pregnancies  Glucose  BloodPressure  SkinThickness  Insulin   BMI  \\\n",
       "0            6      148             72             35        0  33.6   \n",
       "1            1       85             66             29        0  26.6   \n",
       "2            8      183             64              0        0  23.3   \n",
       "3            1       89             66             23       94  28.1   \n",
       "4            0      137             40             35      168  43.1   \n",
       "\n",
       "   DiabetesPedigreeFunction  Age  Outcome  \n",
       "0                     0.627   50        1  \n",
       "1                     0.351   31        0  \n",
       "2                     0.672   32        1  \n",
       "3                     0.167   21        0  \n",
       "4                     2.288   33        1  "
      ]
     },
     "execution_count": 30,
     "metadata": {},
     "output_type": "execute_result"
    }
   ],
   "source": [
    "diabetes_df = pd.read_csv(\"pima-india-diabetes.csv\")\n",
    "diabetes_df.head()"
   ]
  },
  {
   "cell_type": "code",
   "execution_count": 31,
   "metadata": {},
   "outputs": [
    {
     "name": "stdout",
     "output_type": "stream",
     "text": [
      "How many null values in the dataset?: 0\n"
     ]
    }
   ],
   "source": [
    "print(\"How many null values in the dataset?:\",diabetes_df.isnull().any().sum())"
   ]
  },
  {
   "cell_type": "code",
   "execution_count": 41,
   "metadata": {},
   "outputs": [
    {
     "name": "stdout",
     "output_type": "stream",
     "text": [
      "              6       148        72        35         0      33.6     0.627  \\\n",
      "6      1.000000  0.128846  0.141197 -0.082495 -0.072999  0.017518 -0.033927   \n",
      "148    0.128846  1.000000  0.152498  0.056381  0.332383  0.220955  0.136903   \n",
      "72     0.141197  0.152498  1.000000  0.207308  0.089098  0.281777  0.041180   \n",
      "35    -0.082495  0.056381  0.207308  1.000000  0.437974  0.392553  0.183498   \n",
      "0     -0.072999  0.332383  0.089098  0.437974  1.000000  0.198111  0.185579   \n",
      "33.6   0.017518  0.220955  0.281777  0.392553  0.198111  1.000000  0.140546   \n",
      "0.627 -0.033927  0.136903  0.041180  0.183498  0.185579  0.140546  1.000000   \n",
      "50     0.544018  0.262408  0.239571 -0.115873 -0.040942  0.035911  0.032738   \n",
      "1      0.221087  0.465856  0.064882  0.073265  0.131984  0.292695  0.173245   \n",
      "\n",
      "             50         1  \n",
      "6      0.544018  0.221087  \n",
      "148    0.262408  0.465856  \n",
      "72     0.239571  0.064882  \n",
      "35    -0.115873  0.073265  \n",
      "0     -0.040942  0.131984  \n",
      "33.6   0.035911  0.292695  \n",
      "0.627  0.032738  0.173245  \n",
      "50     1.000000  0.236417  \n",
      "1      0.236417  1.000000  \n"
     ]
    },
    {
     "data": {
      "text/plain": [
       "<matplotlib.axes._subplots.AxesSubplot at 0x7ff75fde07c0>"
      ]
     },
     "execution_count": 41,
     "metadata": {},
     "output_type": "execute_result"
    },
    {
     "data": {
      "image/png": "[encoded data removed]",
      "text/plain": [
       "<Figure size 432x288 with 2 Axes>"
      ]
     },
     "metadata": {
      "needs_background": "light"
     },
     "output_type": "display_data"
    }
   ],
   "source": [
    "corr = diabetesDF.corr()\n",
    "print(corr)\n",
    "sns.heatmap(corr, \n",
    "         xticklabels=corr.columns, \n",
    "         yticklabels=corr.columns)"
   ]
  },
  {
   "cell_type": "code",
   "execution_count": 33,
   "metadata": {},
   "outputs": [
    {
     "name": "stdout",
     "output_type": "stream",
     "text": [
      "Confusion Matrix\n",
      "[[122  21]\n",
      " [ 38  50]]\n",
      "\n",
      "Classification Report\n",
      "              precision    recall  f1-score   support\n",
      "\n",
      "         0.0       0.76      0.85      0.81       143\n",
      "         1.0       0.70      0.57      0.63        88\n",
      "\n",
      "    accuracy                           0.74       231\n",
      "   macro avg       0.73      0.71      0.72       231\n",
      "weighted avg       0.74      0.74      0.74       231\n",
      "\n",
      "Logistic Regression Accuracy of Scikit Model: 74.46%\n"
     ]
    }
   ],
   "source": [
    "X = diabetes_df[:,0:8] #Predictors\n",
    "y = diabetes_df[:,8] #Target\n",
    "\n",
    "X_train,X_test,y_train,y_test = train_test_split(X,y,test_size=0.3)\n",
    "\n",
    "logistic_model = LogisticRegression(fit_intercept=True,C=1e15)\n",
    "logistic_model.fit(X_train,y_train)\n",
    "predicted = logistic_model.predict(X_test)\n",
    "\n",
    "print(\"Confusion Matrix\")\n",
    "matrix = confusion_matrix(y_test,predicted)\n",
    "print(matrix)\n",
    "\n",
    "print(\"\\nClassification Report\")\n",
    "report = classification_report(y_test,predicted)\n",
    "print(report)\n",
    "\n",
    "lr_accuracy = accuracy_score(y_test, predicted)\n",
    "print('Logistic Regression Accuracy of Scikit Model: {:.2f}%'.format(lr_accuracy*100))"
   ]
  },
  {
   "cell_type": "markdown",
   "metadata": {},
   "source": [
    "### Creating our own Logistic Regression in Python (not using sklearn)"
   ]
  },
  {
   "cell_type": "code",
   "execution_count": 35,
   "metadata": {},
   "outputs": [],
   "source": [
    "# Code to create Logistic Regression using Sigmoid Function from scratch\n",
    "#find the mininum and maximum value of each column\n",
    "def dataset_minmax(dataset):\n",
    "    minmax = list()\n",
    "    \n",
    "    for i in range(len(dataset[0])):\n",
    "        col_values = [row[i] for row in dataset]\n",
    "        \n",
    "        value_min = min(col_values)\n",
    "        value_max = max(col_values)\n",
    "\n",
    "        minmax.append([value_min, value_max])\n",
    "    \n",
    "    return minmax\n",
    "\n",
    "#rescale the value of each column to be within 0 and 1\n",
    "def normalize_dataset(dataset, minmax):\n",
    "    for row in dataset:\n",
    "        for i in range(len(row)):\n",
    "            row[i]= (row[i]-minmax[i][0]) / (minmax[i][1]-minmax[i][0])"
   ]
  },
  {
   "cell_type": "code",
   "execution_count": 48,
   "metadata": {},
   "outputs": [],
   "source": [
    "#Predicts an output value for a row given a set of coefficients.\n",
    "\n",
    "def predict(row, coefficients):\n",
    "    z = coefficients[0]\n",
    "    for i in range(len(row)-1):\n",
    "        z += coefficients[i + 1] * row[i]\n",
    "    return 1.0 / (1.0 + np.exp(-z))"
   ]
  },
  {
   "cell_type": "code",
   "execution_count": 49,
   "metadata": {},
   "outputs": [],
   "source": [
    "# Estimate logistic regression coefficients using stochastic gradient descent\n",
    "\n",
    "def get_coefficients(train, l_rate, n_steps):\n",
    "    coef = [0.0 for i in range(len(train[0]))]\n",
    "    \n",
    "    for step in range(n_steps): #steps times\n",
    "        sum_error = 0\n",
    "\n",
    "        for row in train: #all rows\n",
    "            z = predict(row, coef)\n",
    "            error = row[-1] - z #z - row[-1]\n",
    "            coef[0] = coef[0] + l_rate * error * z * (1.0 - z) #b0\n",
    "            \n",
    "            for i in range(len(row)-1): #each coefficient (b1,b2,b3....)\n",
    "                coef[i+1] = coef[i+1]+l_rate*error*z*(1.0-z)*row[i]\n",
    "                \n",
    "    return coef"
   ]
  },
  {
   "cell_type": "code",
   "execution_count": 51,
   "metadata": {},
   "outputs": [],
   "source": [
    "def evaluate_model(test,coef):\n",
    "    predictions = []\n",
    "    for r in test:\n",
    "        z = round(predict(r,coef))    \n",
    "        predictions.append(z)\n",
    "        \n",
    "    return(predictions)"
   ]
  },
  {
   "cell_type": "code",
   "execution_count": 52,
   "metadata": {},
   "outputs": [],
   "source": [
    "def logistic_regression(train,test,l_rate,n_steps):    \n",
    "    \n",
    "    #get the coefficients from the training set\n",
    "    coef = get_coefficients(train,l_rate,n_steps)\n",
    "    \n",
    "    #use these to validate against the test set\n",
    "    predictions = evaluate_model(test,coef)\n",
    "    \n",
    "    return(predictions)"
   ]
  },
  {
   "cell_type": "code",
   "execution_count": 53,
   "metadata": {},
   "outputs": [],
   "source": [
    "# Calculate accuracy percentage\n",
    "def accuracy_metric(actual, predicted):\n",
    "    correct = 0\n",
    "    for i in range(len(actual)):\n",
    "        if actual[i] == predicted[i]:\n",
    "            correct += 1\n",
    "    return correct / float(len(actual))"
   ]
  },
  {
   "cell_type": "code",
   "execution_count": 56,
   "metadata": {},
   "outputs": [
    {
     "name": "stdout",
     "output_type": "stream",
     "text": [
      "Confusion Matrix\n",
      "[[131  12]\n",
      " [ 53  35]]\n",
      "\n",
      "Classification Report\n",
      "              precision    recall  f1-score   support\n",
      "\n",
      "         0.0       0.71      0.92      0.80       143\n",
      "         1.0       0.74      0.40      0.52        88\n",
      "\n",
      "    accuracy                           0.72       231\n",
      "   macro avg       0.73      0.66      0.66       231\n",
      "weighted avg       0.72      0.72      0.69       231\n",
      "\n",
      "Logistic Regression Accuracy Of Our Model: 71.86%\n"
     ]
    }
   ],
   "source": [
    "minmax =dataset_minmax(diabetes_df)\n",
    "normalize_dataset(diabetes_df, minmax)\n",
    "\n",
    "l_rate = 0.3\n",
    "n_steps = 100\n",
    "n_folds = 3\n",
    "\n",
    "train_set, test_set = train_test_split(diabetes_df, test_size=0.3)\n",
    "\n",
    "actual = test_set[:,8]\n",
    "test_set = test_set[:,0:8]\n",
    "\n",
    "predicted = logistic_regression(train_set, test_set,l_rate,n_steps)\n",
    "\n",
    "print(\"Confusion Matrix\")\n",
    "matrix = confusion_matrix(actual,predicted)\n",
    "print(matrix)\n",
    "\n",
    "print(\"\\nClassification Report\")\n",
    "report = classification_report(actual,predicted)\n",
    "print(report)\n",
    "\n",
    "scores = accuracy_metric(actual, predicted)\n",
    "print('Logistic Regression Accuracy Of Our Model: {:.2f}%'.format(scores*100))"
   ]
  },
  {
   "cell_type": "code",
   "execution_count": null,
   "metadata": {},
   "outputs": [],
   "source": []
  }
 ],
 "metadata": {
  "kernelspec": {
   "display_name": "Python 3",
   "language": "python",
   "name": "python3"
  },
  "language_info": {
   "codemirror_mode": {
    "name": "ipython",
    "version": 3
   },
   "file_extension": ".py",
   "mimetype": "text/x-python",
   "name": "python",
   "nbconvert_exporter": "python",
   "pygments_lexer": "ipython3",
   "version": "3.8.0"
  }
 },
 "nbformat": 4,
 "nbformat_minor": 4
}
